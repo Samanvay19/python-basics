{
 "cells": [
  {
   "cell_type": "code",
   "execution_count": 10,
   "id": "a5c287b0",
   "metadata": {},
   "outputs": [
    {
     "name": "stdout",
     "output_type": "stream",
     "text": [
      "1\n",
      "2\n",
      "3\n",
      "4\n",
      "5\n"
     ]
    }
   ],
   "source": [
    "s=[1,2,3,4,5]\n",
    "for i in s:\n",
    "    print(i,)"
   ]
  },
  {
   "cell_type": "code",
   "execution_count": 13,
   "id": "e4e23f27",
   "metadata": {},
   "outputs": [
    {
     "name": "stdout",
     "output_type": "stream",
     "text": [
      "s\n",
      "a\n",
      "m\n"
     ]
    }
   ],
   "source": [
    "for i in 'sam':\n",
    "    print(i)"
   ]
  },
  {
   "cell_type": "code",
   "execution_count": 16,
   "id": "5ef4636d",
   "metadata": {},
   "outputs": [
    {
     "name": "stdout",
     "output_type": "stream",
     "text": [
      "sam"
     ]
    }
   ],
   "source": [
    "for i in 'sam':\n",
    "    print(i,end=\"\")"
   ]
  },
  {
   "cell_type": "code",
   "execution_count": 17,
   "id": "4f52561c",
   "metadata": {},
   "outputs": [
    {
     "data": {
      "text/plain": [
       "True"
      ]
     },
     "execution_count": 17,
     "metadata": {},
     "output_type": "execute_result"
    }
   ],
   "source": [
    "a=[10,20,30,40]\n",
    "10 in a"
   ]
  },
  {
   "cell_type": "code",
   "execution_count": 18,
   "id": "90e8099a",
   "metadata": {},
   "outputs": [
    {
     "data": {
      "text/plain": [
       "True"
      ]
     },
     "execution_count": 18,
     "metadata": {},
     "output_type": "execute_result"
    }
   ],
   "source": [
    "50 not in a"
   ]
  },
  {
   "cell_type": "code",
   "execution_count": 19,
   "id": "a957e051",
   "metadata": {},
   "outputs": [
    {
     "data": {
      "text/plain": [
       "False"
      ]
     },
     "execution_count": 19,
     "metadata": {},
     "output_type": "execute_result"
    }
   ],
   "source": [
    "20 not in a"
   ]
  },
  {
   "cell_type": "code",
   "execution_count": 23,
   "id": "13c1fe24",
   "metadata": {},
   "outputs": [
    {
     "name": "stdout",
     "output_type": "stream",
     "text": [
      "[20, 30, 40, 50, 60, 70, 80, 90]\n",
      "8000\n",
      "27000\n",
      "64000\n",
      "125000\n",
      "216000\n",
      "343000\n",
      "512000\n",
      "729000\n"
     ]
    }
   ],
   "source": [
    "list1=[20,30,40,50,60]\n",
    "list2=[70,80,90]\n",
    "list1=list1 +list2\n",
    "print(list1)\n",
    "for i in list1:\n",
    "    print(i**3)"
   ]
  },
  {
   "cell_type": "code",
   "execution_count": 24,
   "id": "91c4aee8",
   "metadata": {},
   "outputs": [],
   "source": [
    "import re"
   ]
  },
  {
   "cell_type": "code",
   "execution_count": 28,
   "id": "907c0cdd",
   "metadata": {},
   "outputs": [
    {
     "name": "stdout",
     "output_type": "stream",
     "text": [
      "['am', 'am', 'am']\n"
     ]
    }
   ],
   "source": [
    "str1=\"my name is sam,i came from jagtial,i like to play cricket\"\n",
    "m = re.findall(\"am\",str1)\n",
    "print(m)"
   ]
  },
  {
   "cell_type": "code",
   "execution_count": 30,
   "id": "e016bdfa",
   "metadata": {},
   "outputs": [
    {
     "data": {
      "text/plain": [
       "6"
      ]
     },
     "execution_count": 30,
     "metadata": {},
     "output_type": "execute_result"
    }
   ],
   "source": [
    "str1.count('a')"
   ]
  },
  {
   "cell_type": "code",
   "execution_count": 32,
   "id": "1a360ef5",
   "metadata": {},
   "outputs": [
    {
     "name": "stdout",
     "output_type": "stream",
     "text": [
      "<re.Match object; span=(8, 9), match='i'>\n"
     ]
    }
   ],
   "source": [
    "x =re.search(\"i\",str1)\n",
    "print(x)"
   ]
  },
  {
   "cell_type": "code",
   "execution_count": 43,
   "id": "7165c7d8",
   "metadata": {},
   "outputs": [
    {
     "name": "stdout",
     "output_type": "stream",
     "text": [
      "['', 'm', 'y', ' ', 'n', 'a', 'm', 'e', ' ', 'i', 's', ' ', 's', 'a', 'm', ',', 'i', ' ', 'c', 'a', 'm', 'e', ' ', 'f', 'r', 'o', 'm', ' ', 'j', 'a', 'g', 't', 'i', 'a', 'l', ',', 'i', ' ', 'l', 'i', 'k', 'e', ' ', 't', 'o', ' ', 'p', 'l', 'a', 'y', ' ', 'c', 'r', 'i', 'c', 'k', 'e', 't', '']@"
     ]
    }
   ],
   "source": [
    "y=re.split('',str1)\n",
    "print(y,)"
   ]
  },
  {
   "cell_type": "code",
   "execution_count": null,
   "id": "6856ca23",
   "metadata": {},
   "outputs": [],
   "source": []
  }
 ],
 "metadata": {
  "kernelspec": {
   "display_name": "Python 3 (ipykernel)",
   "language": "python",
   "name": "python3"
  },
  "language_info": {
   "codemirror_mode": {
    "name": "ipython",
    "version": 3
   },
   "file_extension": ".py",
   "mimetype": "text/x-python",
   "name": "python",
   "nbconvert_exporter": "python",
   "pygments_lexer": "ipython3",
   "version": "3.9.13"
  }
 },
 "nbformat": 4,
 "nbformat_minor": 5
}
